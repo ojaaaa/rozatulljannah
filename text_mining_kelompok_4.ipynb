{
  "nbformat": 4,
  "nbformat_minor": 0,
  "metadata": {
    "colab": {
      "provenance": []
    },
    "kernelspec": {
      "name": "python3",
      "display_name": "Python 3"
    },
    "language_info": {
      "name": "python"
    }
  },
  "cells": [
    {
      "cell_type": "code",
      "execution_count": null,
      "metadata": {
        "colab": {
          "base_uri": "https://localhost:8080/"
        },
        "id": "qfkLRyezMlUp",
        "outputId": "dc09e291-43d0-477a-d840-092e701588e2"
      },
      "outputs": [
        {
          "output_type": "stream",
          "name": "stderr",
          "text": [
            "[nltk_data] Downloading package punkt to /root/nltk_data...\n",
            "[nltk_data]   Package punkt is already up-to-date!\n",
            "[nltk_data] Downloading package stopwords to /root/nltk_data...\n",
            "[nltk_data]   Package stopwords is already up-to-date!\n",
            "[nltk_data] Downloading package wordnet to /root/nltk_data...\n",
            "[nltk_data]   Package wordnet is already up-to-date!\n",
            "[nltk_data] Downloading package omw-1.4 to /root/nltk_data...\n",
            "[nltk_data]   Package omw-1.4 is already up-to-date!\n"
          ]
        },
        {
          "output_type": "execute_result",
          "data": {
            "text/plain": [
              "True"
            ]
          },
          "metadata": {},
          "execution_count": 4
        }
      ],
      "source": [
        "import pandas as pd\n",
        "import numpy as np\n",
        "import re\n",
        "import string\n",
        "import seaborn as sns\n",
        "import matplotlib.pyplot as plt\n",
        "import nltk\n",
        "from nltk.tokenize import word_tokenize\n",
        "from nltk.corpus import stopwords\n",
        "from sklearn.feature_extraction.text import TfidfVectorizer\n",
        "from sklearn.model_selection import train_test_split\n",
        "from sklearn.preprocessing import LabelEncoder\n",
        "from sklearn.svm import LinearSVC\n",
        "from sklearn import metrics\n",
        "from sklearn.metrics import accuracy_score, precision_score, recall_score, f1_score, confusion_matrix\n",
        "import nltk\n",
        "nltk.download('punkt')\n",
        "nltk.download('stopwords')\n",
        "nltk.download('wordnet')\n",
        "nltk.download('omw-1.4')"
      ]
    },
    {
      "cell_type": "code",
      "source": [
        "np.random.seed(500)\n",
        "\n",
        "Corpus = pd.read_csv(\n",
        "    r\"dataset_2.csv\", encoding='latin-1')"
      ],
      "metadata": {
        "id": "nMtWAS6vNHwl"
      },
      "execution_count": null,
      "outputs": []
    },
    {
      "cell_type": "code",
      "source": [
        "df = pd.read_csv('dataset_2.csv')\n",
        "\n",
        "df.head()"
      ],
      "metadata": {
        "id": "fkR9xh1fOjvE",
        "colab": {
          "base_uri": "https://localhost:8080/",
          "height": 206
        },
        "outputId": "5b97c93a-92ce-42eb-8a4b-706652a5f72d"
      },
      "execution_count": null,
      "outputs": [
        {
          "output_type": "execute_result",
          "data": {
            "text/plain": [
              "                                                text    label\n",
              "0  bupati purwakarta periode bupati dedi jabat an...  positif\n",
              "1  arus deras transformasi digital tata kelola pe...  positif\n",
              "2  mobil mewah lexus lx milik gubernur jawa barat...  negatif\n",
              "3  siswa sekolah anggap nakal jawa barat kirim ma...  positif\n",
              "4  wamen daya perempuan lindung anak veronica tan...  positif"
            ],
            "text/html": [
              "\n",
              "  <div id=\"df-1039f94c-1e22-4dd7-8886-d15c97fef356\" class=\"colab-df-container\">\n",
              "    <div>\n",
              "<style scoped>\n",
              "    .dataframe tbody tr th:only-of-type {\n",
              "        vertical-align: middle;\n",
              "    }\n",
              "\n",
              "    .dataframe tbody tr th {\n",
              "        vertical-align: top;\n",
              "    }\n",
              "\n",
              "    .dataframe thead th {\n",
              "        text-align: right;\n",
              "    }\n",
              "</style>\n",
              "<table border=\"1\" class=\"dataframe\">\n",
              "  <thead>\n",
              "    <tr style=\"text-align: right;\">\n",
              "      <th></th>\n",
              "      <th>text</th>\n",
              "      <th>label</th>\n",
              "    </tr>\n",
              "  </thead>\n",
              "  <tbody>\n",
              "    <tr>\n",
              "      <th>0</th>\n",
              "      <td>bupati purwakarta periode bupati dedi jabat an...</td>\n",
              "      <td>positif</td>\n",
              "    </tr>\n",
              "    <tr>\n",
              "      <th>1</th>\n",
              "      <td>arus deras transformasi digital tata kelola pe...</td>\n",
              "      <td>positif</td>\n",
              "    </tr>\n",
              "    <tr>\n",
              "      <th>2</th>\n",
              "      <td>mobil mewah lexus lx milik gubernur jawa barat...</td>\n",
              "      <td>negatif</td>\n",
              "    </tr>\n",
              "    <tr>\n",
              "      <th>3</th>\n",
              "      <td>siswa sekolah anggap nakal jawa barat kirim ma...</td>\n",
              "      <td>positif</td>\n",
              "    </tr>\n",
              "    <tr>\n",
              "      <th>4</th>\n",
              "      <td>wamen daya perempuan lindung anak veronica tan...</td>\n",
              "      <td>positif</td>\n",
              "    </tr>\n",
              "  </tbody>\n",
              "</table>\n",
              "</div>\n",
              "    <div class=\"colab-df-buttons\">\n",
              "\n",
              "  <div class=\"colab-df-container\">\n",
              "    <button class=\"colab-df-convert\" onclick=\"convertToInteractive('df-1039f94c-1e22-4dd7-8886-d15c97fef356')\"\n",
              "            title=\"Convert this dataframe to an interactive table.\"\n",
              "            style=\"display:none;\">\n",
              "\n",
              "  <svg xmlns=\"http://www.w3.org/2000/svg\" height=\"24px\" viewBox=\"0 -960 960 960\">\n",
              "    <path d=\"M120-120v-720h720v720H120Zm60-500h600v-160H180v160Zm220 220h160v-160H400v160Zm0 220h160v-160H400v160ZM180-400h160v-160H180v160Zm440 0h160v-160H620v160ZM180-180h160v-160H180v160Zm440 0h160v-160H620v160Z\"/>\n",
              "  </svg>\n",
              "    </button>\n",
              "\n",
              "  <style>\n",
              "    .colab-df-container {\n",
              "      display:flex;\n",
              "      gap: 12px;\n",
              "    }\n",
              "\n",
              "    .colab-df-convert {\n",
              "      background-color: #E8F0FE;\n",
              "      border: none;\n",
              "      border-radius: 50%;\n",
              "      cursor: pointer;\n",
              "      display: none;\n",
              "      fill: #1967D2;\n",
              "      height: 32px;\n",
              "      padding: 0 0 0 0;\n",
              "      width: 32px;\n",
              "    }\n",
              "\n",
              "    .colab-df-convert:hover {\n",
              "      background-color: #E2EBFA;\n",
              "      box-shadow: 0px 1px 2px rgba(60, 64, 67, 0.3), 0px 1px 3px 1px rgba(60, 64, 67, 0.15);\n",
              "      fill: #174EA6;\n",
              "    }\n",
              "\n",
              "    .colab-df-buttons div {\n",
              "      margin-bottom: 4px;\n",
              "    }\n",
              "\n",
              "    [theme=dark] .colab-df-convert {\n",
              "      background-color: #3B4455;\n",
              "      fill: #D2E3FC;\n",
              "    }\n",
              "\n",
              "    [theme=dark] .colab-df-convert:hover {\n",
              "      background-color: #434B5C;\n",
              "      box-shadow: 0px 1px 3px 1px rgba(0, 0, 0, 0.15);\n",
              "      filter: drop-shadow(0px 1px 2px rgba(0, 0, 0, 0.3));\n",
              "      fill: #FFFFFF;\n",
              "    }\n",
              "  </style>\n",
              "\n",
              "    <script>\n",
              "      const buttonEl =\n",
              "        document.querySelector('#df-1039f94c-1e22-4dd7-8886-d15c97fef356 button.colab-df-convert');\n",
              "      buttonEl.style.display =\n",
              "        google.colab.kernel.accessAllowed ? 'block' : 'none';\n",
              "\n",
              "      async function convertToInteractive(key) {\n",
              "        const element = document.querySelector('#df-1039f94c-1e22-4dd7-8886-d15c97fef356');\n",
              "        const dataTable =\n",
              "          await google.colab.kernel.invokeFunction('convertToInteractive',\n",
              "                                                    [key], {});\n",
              "        if (!dataTable) return;\n",
              "\n",
              "        const docLinkHtml = 'Like what you see? Visit the ' +\n",
              "          '<a target=\"_blank\" href=https://colab.research.google.com/notebooks/data_table.ipynb>data table notebook</a>'\n",
              "          + ' to learn more about interactive tables.';\n",
              "        element.innerHTML = '';\n",
              "        dataTable['output_type'] = 'display_data';\n",
              "        await google.colab.output.renderOutput(dataTable, element);\n",
              "        const docLink = document.createElement('div');\n",
              "        docLink.innerHTML = docLinkHtml;\n",
              "        element.appendChild(docLink);\n",
              "      }\n",
              "    </script>\n",
              "  </div>\n",
              "\n",
              "\n",
              "    <div id=\"df-c8db6cea-1ae6-45d3-83a1-ff6a13d0631a\">\n",
              "      <button class=\"colab-df-quickchart\" onclick=\"quickchart('df-c8db6cea-1ae6-45d3-83a1-ff6a13d0631a')\"\n",
              "                title=\"Suggest charts\"\n",
              "                style=\"display:none;\">\n",
              "\n",
              "<svg xmlns=\"http://www.w3.org/2000/svg\" height=\"24px\"viewBox=\"0 0 24 24\"\n",
              "     width=\"24px\">\n",
              "    <g>\n",
              "        <path d=\"M19 3H5c-1.1 0-2 .9-2 2v14c0 1.1.9 2 2 2h14c1.1 0 2-.9 2-2V5c0-1.1-.9-2-2-2zM9 17H7v-7h2v7zm4 0h-2V7h2v10zm4 0h-2v-4h2v4z\"/>\n",
              "    </g>\n",
              "</svg>\n",
              "      </button>\n",
              "\n",
              "<style>\n",
              "  .colab-df-quickchart {\n",
              "      --bg-color: #E8F0FE;\n",
              "      --fill-color: #1967D2;\n",
              "      --hover-bg-color: #E2EBFA;\n",
              "      --hover-fill-color: #174EA6;\n",
              "      --disabled-fill-color: #AAA;\n",
              "      --disabled-bg-color: #DDD;\n",
              "  }\n",
              "\n",
              "  [theme=dark] .colab-df-quickchart {\n",
              "      --bg-color: #3B4455;\n",
              "      --fill-color: #D2E3FC;\n",
              "      --hover-bg-color: #434B5C;\n",
              "      --hover-fill-color: #FFFFFF;\n",
              "      --disabled-bg-color: #3B4455;\n",
              "      --disabled-fill-color: #666;\n",
              "  }\n",
              "\n",
              "  .colab-df-quickchart {\n",
              "    background-color: var(--bg-color);\n",
              "    border: none;\n",
              "    border-radius: 50%;\n",
              "    cursor: pointer;\n",
              "    display: none;\n",
              "    fill: var(--fill-color);\n",
              "    height: 32px;\n",
              "    padding: 0;\n",
              "    width: 32px;\n",
              "  }\n",
              "\n",
              "  .colab-df-quickchart:hover {\n",
              "    background-color: var(--hover-bg-color);\n",
              "    box-shadow: 0 1px 2px rgba(60, 64, 67, 0.3), 0 1px 3px 1px rgba(60, 64, 67, 0.15);\n",
              "    fill: var(--button-hover-fill-color);\n",
              "  }\n",
              "\n",
              "  .colab-df-quickchart-complete:disabled,\n",
              "  .colab-df-quickchart-complete:disabled:hover {\n",
              "    background-color: var(--disabled-bg-color);\n",
              "    fill: var(--disabled-fill-color);\n",
              "    box-shadow: none;\n",
              "  }\n",
              "\n",
              "  .colab-df-spinner {\n",
              "    border: 2px solid var(--fill-color);\n",
              "    border-color: transparent;\n",
              "    border-bottom-color: var(--fill-color);\n",
              "    animation:\n",
              "      spin 1s steps(1) infinite;\n",
              "  }\n",
              "\n",
              "  @keyframes spin {\n",
              "    0% {\n",
              "      border-color: transparent;\n",
              "      border-bottom-color: var(--fill-color);\n",
              "      border-left-color: var(--fill-color);\n",
              "    }\n",
              "    20% {\n",
              "      border-color: transparent;\n",
              "      border-left-color: var(--fill-color);\n",
              "      border-top-color: var(--fill-color);\n",
              "    }\n",
              "    30% {\n",
              "      border-color: transparent;\n",
              "      border-left-color: var(--fill-color);\n",
              "      border-top-color: var(--fill-color);\n",
              "      border-right-color: var(--fill-color);\n",
              "    }\n",
              "    40% {\n",
              "      border-color: transparent;\n",
              "      border-right-color: var(--fill-color);\n",
              "      border-top-color: var(--fill-color);\n",
              "    }\n",
              "    60% {\n",
              "      border-color: transparent;\n",
              "      border-right-color: var(--fill-color);\n",
              "    }\n",
              "    80% {\n",
              "      border-color: transparent;\n",
              "      border-right-color: var(--fill-color);\n",
              "      border-bottom-color: var(--fill-color);\n",
              "    }\n",
              "    90% {\n",
              "      border-color: transparent;\n",
              "      border-bottom-color: var(--fill-color);\n",
              "    }\n",
              "  }\n",
              "</style>\n",
              "\n",
              "      <script>\n",
              "        async function quickchart(key) {\n",
              "          const quickchartButtonEl =\n",
              "            document.querySelector('#' + key + ' button');\n",
              "          quickchartButtonEl.disabled = true;  // To prevent multiple clicks.\n",
              "          quickchartButtonEl.classList.add('colab-df-spinner');\n",
              "          try {\n",
              "            const charts = await google.colab.kernel.invokeFunction(\n",
              "                'suggestCharts', [key], {});\n",
              "          } catch (error) {\n",
              "            console.error('Error during call to suggestCharts:', error);\n",
              "          }\n",
              "          quickchartButtonEl.classList.remove('colab-df-spinner');\n",
              "          quickchartButtonEl.classList.add('colab-df-quickchart-complete');\n",
              "        }\n",
              "        (() => {\n",
              "          let quickchartButtonEl =\n",
              "            document.querySelector('#df-c8db6cea-1ae6-45d3-83a1-ff6a13d0631a button');\n",
              "          quickchartButtonEl.style.display =\n",
              "            google.colab.kernel.accessAllowed ? 'block' : 'none';\n",
              "        })();\n",
              "      </script>\n",
              "    </div>\n",
              "\n",
              "    </div>\n",
              "  </div>\n"
            ],
            "application/vnd.google.colaboratory.intrinsic+json": {
              "type": "dataframe",
              "variable_name": "df",
              "summary": "{\n  \"name\": \"df\",\n  \"rows\": 736,\n  \"fields\": [\n    {\n      \"column\": \"text\",\n      \"properties\": {\n        \"dtype\": \"string\",\n        \"num_unique_values\": 419,\n        \"samples\": [\n          \"dedi mulyadi rencana terap evoting pilkades jabar tim redaksi bandung kompascom gubernur jawa barat dedi mulyadi umum rencana ubah sistem pilih kepala desa wilayah adopsi sistem electronic voting evoting turut terap sistem upaya modernisasi pilih kepala desa efektif kapabel dedi mulyadi putus akar alam jabat bupati purwakarta ubah sistem pilih kepala desa baca pilkades tunda massa desa geruduk kantor camat kepala desa bikin pilih iur calon bupati iur biaya disiapin pmk atur menteri uang dana desa ganti foto orang acara lantik dewan pimpin daerah asosiasi perintah desa indonesia dpd apdesi aula barat gedung sate kota bandung kamis pilih kepala desa foto calon ganti ilustrasi buahbuahan sumber dana pilih asal iur calon anggar dinas daya desa dedi mulyadi ubah sistem pilih kontribusi positif benah regulasi atur pilih kepala desa percaya masyarakat mudah sistem evoting desa tps robah tps rt sebentar coba barat pilih kepala desa evoting coba baca dedi mulyadi dorong kades jabar lestari budaya lingkung gubernur dorong menteri desa implementasi ebudgeting kelola dana alokasi pilih kepala desa guna dana catat perinci ebudgeting dana kelola guna keluar tunai transfer rt transfer panitia transfer mana transfer pungkas rencana harap transparansi akuntabilitas proses pilih kepala desa jawa barat copyright pt kompas cyber media kompas gramedia digital group all rights reserved\",\n          \"saiful mujani research center smrc ungkap potensi menang ridwan kamil calon pilgub jawa barat survei smrc mei elektabilitas ridwan kamil unggul simulasi politikus partai gerindra dedi mulyadi tanding ridwan kamil dukung rk rata basis partai dukung gerindrapartai dedi mulyadisebagian dukung rk advertisement scroll to continue with content simulasi top of mind smrc catat rk nama responden elektabilitas rk simulasi capai persen dedi mulyadi duduk posisi persen namanama bima arya persen deddy mizwar persen elektabilitas namanama gabung hasil angka persen persen responden simulasi nama ridwan kamil unggul ridwan kamil elektabilitas persen dedi mulyadi persen nama muncul deddy mizwar persen dede yusuf macan effendi persen namanama gabung hasil elektabilitas persen responden tahurahasia persen smrc sorot rivalitas ridwan kamil degan dedi mulyadi survei kali nilai nama kuat jawa barat jarak elektabilitas rk dedi puluh persen namanama tembus elektabilitas persen saing rk dedi mulyadi survei smrc simulasi buka top of mind ridwan kamil persendedi mulyadi persenbima arya persendeddy mizwar persennamanama persentidak persen simulasi semi buka nama ridwan kamil persendedi mulyadi persendeddy mizwar persendede yusuf macan effendi persennamanama persentidak tahurahasia persen simulasi nama head to head ridwan kamil persendedi mulyadi persentidak tahutidak persenkalau nama saing ridwan kamil lawan dedi mulyadi oleh elektabilitas ridwan kamil persen poin den siar langsung kanal youtube smrc tv jumat smrc ecek dukung jawa barat dasar pilih partai politik rk unggul basis partai politik kecuali dukung partai demokrat unggul ridwan kamil basis massa pilih ppp persen pan persen pks persen golkar persen rk unggul basis massa gerindra persen partai taung dedi mulyadi ridwan kamil peluang menang kampanye biaya figur politik kuat provinsi pilih besar tingkat nasional modal politik ridwan kamil partai den\",\n          \"komnas ham tni wenang didik sipil program dedi mulyadi evaluasi tim redaksi jakarta kompascom komisi nasional hak asasi manusia komnas ham gubernur jawa barat dedi mulyadi tinjau program kirim anak nakal barak militer ketua komnas ham atnike nova sigiro bijak evaluasi edukasi kalang sipil wenang lembaga militer wenang tni civil education tinjau rencana atnike temu kantor komnas ham jakarta pusat jumat atnike siswa nakal ajak barak tni giat edukasi didik karier tugastugas tni latih tni baca adu ide dedi mulyadi vs ahmad luthfi kirim siswa nakal barak sayang anakanak nakal bawa barak tni bentuk hukum hukum anak nakal barak tni bentuk keliru iya keliru proses hukum dasar hukum pidana anak umur berita dedi mulyadi rencana kirim siswa masalah barak militer langkah bina karakter upaya kurang nakal remaja wilayah jawa barat baca dedi mulyadi yakin orangtua masuk anak didik militer program tuju bina siswa indikasi nakal hindar perilaku negatif program laksana purwakarta siswa nakal jalan didik resimen artileri medan sthira yudha batalyon artileri medan jalan raya sadangsubang ciwangi camat bungursari kabupaten purwakarta \"\n        ],\n        \"semantic_type\": \"\",\n        \"description\": \"\"\n      }\n    },\n    {\n      \"column\": \"label\",\n      \"properties\": {\n        \"dtype\": \"category\",\n        \"num_unique_values\": 3,\n        \"samples\": [\n          \"positif\",\n          \"negatif\",\n          \"netral\"\n        ],\n        \"semantic_type\": \"\",\n        \"description\": \"\"\n      }\n    }\n  ]\n}"
            }
          },
          "metadata": {},
          "execution_count": 6
        }
      ]
    },
    {
      "cell_type": "code",
      "source": [
        "sentimen_counts = df['label'].value_counts()\n",
        "\n",
        "print(sentimen_counts)"
      ],
      "metadata": {
        "id": "dUWZLJvDWNsr",
        "colab": {
          "base_uri": "https://localhost:8080/"
        },
        "outputId": "c27733ee-635b-46c1-e928-d9e8e4148ac7"
      },
      "execution_count": null,
      "outputs": [
        {
          "output_type": "stream",
          "name": "stdout",
          "text": [
            "label\n",
            "positif    403\n",
            "negatif    233\n",
            "netral     100\n",
            "Name: count, dtype: int64\n"
          ]
        }
      ]
    },
    {
      "cell_type": "code",
      "source": [
        "plt.figure(figsize=(6,4))\n",
        "sns.barplot(x=sentimen_counts.index, y=sentimen_counts.values, palette='Set2')\n",
        "plt.title('Distribusi Sentimen dalam Dataset')\n",
        "plt.xlabel('Jenis Sentimen')\n",
        "plt.ylabel('Jumlah Data')\n",
        "for i, v in enumerate(sentimen_counts.values):\n",
        "    plt.text(i, v + 1, str(v), ha='center', fontweight='bold')\n",
        "plt.show()"
      ],
      "metadata": {
        "id": "rP_meaFyV-Ly",
        "colab": {
          "base_uri": "https://localhost:8080/",
          "height": 517
        },
        "outputId": "0f03379d-94cb-4ec6-96af-1f037deae560"
      },
      "execution_count": null,
      "outputs": [
        {
          "output_type": "stream",
          "name": "stderr",
          "text": [
            "/tmp/ipython-input-8-4258022254.py:2: FutureWarning: \n",
            "\n",
            "Passing `palette` without assigning `hue` is deprecated and will be removed in v0.14.0. Assign the `x` variable to `hue` and set `legend=False` for the same effect.\n",
            "\n",
            "  sns.barplot(x=sentimen_counts.index, y=sentimen_counts.values, palette='Set2')\n"
          ]
        },
        {
          "output_type": "display_data",
          "data": {
            "text/plain": [
              "<Figure size 600x400 with 1 Axes>"
            ],
            "image/png": "[encoded data removed]"
          },
          "metadata": {}
        }
      ]
    },
    {
      "cell_type": "code",
      "source": [
        "import nltk\n",
        "nltk.download('stopwords')\n",
        "nltk.download('wordnet')\n",
        "nltk.download('omw-1.4')\n",
        "from nltk.corpus import stopwords\n",
        "stop_words = set(stopwords.words('indonesian'))\n"
      ],
      "metadata": {
        "id": "pSJE5bPGQ8Yr",
        "colab": {
          "base_uri": "https://localhost:8080/"
        },
        "outputId": "107a4e1f-c88d-434f-d883-ce9e52d5ebb1"
      },
      "execution_count": null,
      "outputs": [
        {
          "output_type": "stream",
          "name": "stderr",
          "text": [
            "[nltk_data] Downloading package stopwords to /root/nltk_data...\n",
            "[nltk_data]   Package stopwords is already up-to-date!\n",
            "[nltk_data] Downloading package wordnet to /root/nltk_data...\n",
            "[nltk_data]   Package wordnet is already up-to-date!\n",
            "[nltk_data] Downloading package omw-1.4 to /root/nltk_data...\n",
            "[nltk_data]   Package omw-1.4 is already up-to-date!\n"
          ]
        }
      ]
    },
    {
      "cell_type": "code",
      "source": [
        "def clean_text(text):\n",
        "    text = str(text).lower()\n",
        "    text = re.sub(r'http\\S+', '', text)\n",
        "    text = re.sub(r'\\d+', '', text)\n",
        "    text = text.translate(str.maketrans('', '', string.punctuation))\n",
        "    text = text.strip()\n",
        "    text = ' '.join([word for word in text.split() if word not in stop_words])\n",
        "    return text\n",
        "\n",
        "df['clean_text'] = df['text'].apply(clean_text)\n",
        "\n",
        "df[['text', 'clean_text']].head()\n"
      ],
      "metadata": {
        "id": "nJgNWYjYO0m9",
        "colab": {
          "base_uri": "https://localhost:8080/",
          "height": 206
        },
        "outputId": "00a4945a-28fc-47e4-e381-a4c8c11def0f"
      },
      "execution_count": null,
      "outputs": [
        {
          "output_type": "execute_result",
          "data": {
            "text/plain": [
              "                                                text  \\\n",
              "0  bupati purwakarta periode bupati dedi jabat an...   \n",
              "1  arus deras transformasi digital tata kelola pe...   \n",
              "2  mobil mewah lexus lx milik gubernur jawa barat...   \n",
              "3  siswa sekolah anggap nakal jawa barat kirim ma...   \n",
              "4  wamen daya perempuan lindung anak veronica tan...   \n",
              "\n",
              "                                          clean_text  \n",
              "0  bupati purwakarta periode bupati dedi jabat an...  \n",
              "1  arus deras transformasi digital tata kelola pe...  \n",
              "2  mobil mewah lexus lx milik gubernur jawa barat...  \n",
              "3  siswa sekolah anggap nakal jawa barat kirim ma...  \n",
              "4  wamen daya perempuan lindung anak veronica tan...  "
            ],
            "text/html": [
              "\n",
              "  <div id=\"df-51930b61-287e-43d0-a1c4-df5277e70bc3\" class=\"colab-df-container\">\n",
              "    <div>\n",
              "<style scoped>\n",
              "    .dataframe tbody tr th:only-of-type {\n",
              "        vertical-align: middle;\n",
              "    }\n",
              "\n",
              "    .dataframe tbody tr th {\n",
              "        vertical-align: top;\n",
              "    }\n",
              "\n",
              "    .dataframe thead th {\n",
              "        text-align: right;\n",
              "    }\n",
              "</style>\n",
              "<table border=\"1\" class=\"dataframe\">\n",
              "  <thead>\n",
              "    <tr style=\"text-align: right;\">\n",
              "      <th></th>\n",
              "      <th>text</th>\n",
              "      <th>clean_text</th>\n",
              "    </tr>\n",
              "  </thead>\n",
              "  <tbody>\n",
              "    <tr>\n",
              "      <th>0</th>\n",
              "      <td>bupati purwakarta periode bupati dedi jabat an...</td>\n",
              "      <td>bupati purwakarta periode bupati dedi jabat an...</td>\n",
              "    </tr>\n",
              "    <tr>\n",
              "      <th>1</th>\n",
              "      <td>arus deras transformasi digital tata kelola pe...</td>\n",
              "      <td>arus deras transformasi digital tata kelola pe...</td>\n",
              "    </tr>\n",
              "    <tr>\n",
              "      <th>2</th>\n",
              "      <td>mobil mewah lexus lx milik gubernur jawa barat...</td>\n",
              "      <td>mobil mewah lexus lx milik gubernur jawa barat...</td>\n",
              "    </tr>\n",
              "    <tr>\n",
              "      <th>3</th>\n",
              "      <td>siswa sekolah anggap nakal jawa barat kirim ma...</td>\n",
              "      <td>siswa sekolah anggap nakal jawa barat kirim ma...</td>\n",
              "    </tr>\n",
              "    <tr>\n",
              "      <th>4</th>\n",
              "      <td>wamen daya perempuan lindung anak veronica tan...</td>\n",
              "      <td>wamen daya perempuan lindung anak veronica tan...</td>\n",
              "    </tr>\n",
              "  </tbody>\n",
              "</table>\n",
              "</div>\n",
              "    <div class=\"colab-df-buttons\">\n",
              "\n",
              "  <div class=\"colab-df-container\">\n",
              "    <button class=\"colab-df-convert\" onclick=\"convertToInteractive('df-51930b61-287e-43d0-a1c4-df5277e70bc3')\"\n",
              "            title=\"Convert this dataframe to an interactive table.\"\n",
              "            style=\"display:none;\">\n",
              "\n",
              "  <svg xmlns=\"http://www.w3.org/2000/svg\" height=\"24px\" viewBox=\"0 -960 960 960\">\n",
              "    <path d=\"M120-120v-720h720v720H120Zm60-500h600v-160H180v160Zm220 220h160v-160H400v160Zm0 220h160v-160H400v160ZM180-400h160v-160H180v160Zm440 0h160v-160H620v160ZM180-180h160v-160H180v160Zm440 0h160v-160H620v160Z\"/>\n",
              "  </svg>\n",
              "    </button>\n",
              "\n",
              "  <style>\n",
              "    .colab-df-container {\n",
              "      display:flex;\n",
              "      gap: 12px;\n",
              "    }\n",
              "\n",
              "    .colab-df-convert {\n",
              "      background-color: #E8F0FE;\n",
              "      border: none;\n",
              "      border-radius: 50%;\n",
              "      cursor: pointer;\n",
              "      display: none;\n",
              "      fill: #1967D2;\n",
              "      height: 32px;\n",
              "      padding: 0 0 0 0;\n",
              "      width: 32px;\n",
              "    }\n",
              "\n",
              "    .colab-df-convert:hover {\n",
              "      background-color: #E2EBFA;\n",
              "      box-shadow: 0px 1px 2px rgba(60, 64, 67, 0.3), 0px 1px 3px 1px rgba(60, 64, 67, 0.15);\n",
              "      fill: #174EA6;\n",
              "    }\n",
              "\n",
              "    .colab-df-buttons div {\n",
              "      margin-bottom: 4px;\n",
              "    }\n",
              "\n",
              "    [theme=dark] .colab-df-convert {\n",
              "      background-color: #3B4455;\n",
              "      fill: #D2E3FC;\n",
              "    }\n",
              "\n",
              "    [theme=dark] .colab-df-convert:hover {\n",
              "      background-color: #434B5C;\n",
              "      box-shadow: 0px 1px 3px 1px rgba(0, 0, 0, 0.15);\n",
              "      filter: drop-shadow(0px 1px 2px rgba(0, 0, 0, 0.3));\n",
              "      fill: #FFFFFF;\n",
              "    }\n",
              "  </style>\n",
              "\n",
              "    <script>\n",
              "      const buttonEl =\n",
              "        document.querySelector('#df-51930b61-287e-43d0-a1c4-df5277e70bc3 button.colab-df-convert');\n",
              "      buttonEl.style.display =\n",
              "        google.colab.kernel.accessAllowed ? 'block' : 'none';\n",
              "\n",
              "      async function convertToInteractive(key) {\n",
              "        const element = document.querySelector('#df-51930b61-287e-43d0-a1c4-df5277e70bc3');\n",
              "        const dataTable =\n",
              "          await google.colab.kernel.invokeFunction('convertToInteractive',\n",
              "                                                    [key], {});\n",
              "        if (!dataTable) return;\n",
              "\n",
              "        const docLinkHtml = 'Like what you see? Visit the ' +\n",
              "          '<a target=\"_blank\" href=https://colab.research.google.com/notebooks/data_table.ipynb>data table notebook</a>'\n",
              "          + ' to learn more about interactive tables.';\n",
              "        element.innerHTML = '';\n",
              "        dataTable['output_type'] = 'display_data';\n",
              "        await google.colab.output.renderOutput(dataTable, element);\n",
              "        const docLink = document.createElement('div');\n",
              "        docLink.innerHTML = docLinkHtml;\n",
              "        element.appendChild(docLink);\n",
              "      }\n",
              "    </script>\n",
              "  </div>\n",
              "\n",
              "\n",
              "    <div id=\"df-9cbe0629-9ff6-447d-808e-0fa1ea6db353\">\n",
              "      <button class=\"colab-df-quickchart\" onclick=\"quickchart('df-9cbe0629-9ff6-447d-808e-0fa1ea6db353')\"\n",
              "                title=\"Suggest charts\"\n",
              "                style=\"display:none;\">\n",
              "\n",
              "<svg xmlns=\"http://www.w3.org/2000/svg\" height=\"24px\"viewBox=\"0 0 24 24\"\n",
              "     width=\"24px\">\n",
              "    <g>\n",
              "        <path d=\"M19 3H5c-1.1 0-2 .9-2 2v14c0 1.1.9 2 2 2h14c1.1 0 2-.9 2-2V5c0-1.1-.9-2-2-2zM9 17H7v-7h2v7zm4 0h-2V7h2v10zm4 0h-2v-4h2v4z\"/>\n",
              "    </g>\n",
              "</svg>\n",
              "      </button>\n",
              "\n",
              "<style>\n",
              "  .colab-df-quickchart {\n",
              "      --bg-color: #E8F0FE;\n",
              "      --fill-color: #1967D2;\n",
              "      --hover-bg-color: #E2EBFA;\n",
              "      --hover-fill-color: #174EA6;\n",
              "      --disabled-fill-color: #AAA;\n",
              "      --disabled-bg-color: #DDD;\n",
              "  }\n",
              "\n",
              "  [theme=dark] .colab-df-quickchart {\n",
              "      --bg-color: #3B4455;\n",
              "      --fill-color: #D2E3FC;\n",
              "      --hover-bg-color: #434B5C;\n",
              "      --hover-fill-color: #FFFFFF;\n",
              "      --disabled-bg-color: #3B4455;\n",
              "      --disabled-fill-color: #666;\n",
              "  }\n",
              "\n",
              "  .colab-df-quickchart {\n",
              "    background-color: var(--bg-color);\n",
              "    border: none;\n",
              "    border-radius: 50%;\n",
              "    cursor: pointer;\n",
              "    display: none;\n",
              "    fill: var(--fill-color);\n",
              "    height: 32px;\n",
              "    padding: 0;\n",
              "    width: 32px;\n",
              "  }\n",
              "\n",
              "  .colab-df-quickchart:hover {\n",
              "    background-color: var(--hover-bg-color);\n",
              "    box-shadow: 0 1px 2px rgba(60, 64, 67, 0.3), 0 1px 3px 1px rgba(60, 64, 67, 0.15);\n",
              "    fill: var(--button-hover-fill-color);\n",
              "  }\n",
              "\n",
              "  .colab-df-quickchart-complete:disabled,\n",
              "  .colab-df-quickchart-complete:disabled:hover {\n",
              "    background-color: var(--disabled-bg-color);\n",
              "    fill: var(--disabled-fill-color);\n",
              "    box-shadow: none;\n",
              "  }\n",
              "\n",
              "  .colab-df-spinner {\n",
              "    border: 2px solid var(--fill-color);\n",
              "    border-color: transparent;\n",
              "    border-bottom-color: var(--fill-color);\n",
              "    animation:\n",
              "      spin 1s steps(1) infinite;\n",
              "  }\n",
              "\n",
              "  @keyframes spin {\n",
              "    0% {\n",
              "      border-color: transparent;\n",
              "      border-bottom-color: var(--fill-color);\n",
              "      border-left-color: var(--fill-color);\n",
              "    }\n",
              "    20% {\n",
              "      border-color: transparent;\n",
              "      border-left-color: var(--fill-color);\n",
              "      border-top-color: var(--fill-color);\n",
              "    }\n",
              "    30% {\n",
              "      border-color: transparent;\n",
              "      border-left-color: var(--fill-color);\n",
              "      border-top-color: var(--fill-color);\n",
              "      border-right-color: var(--fill-color);\n",
              "    }\n",
              "    40% {\n",
              "      border-color: transparent;\n",
              "      border-right-color: var(--fill-color);\n",
              "      border-top-color: var(--fill-color);\n",
              "    }\n",
              "    60% {\n",
              "      border-color: transparent;\n",
              "      border-right-color: var(--fill-color);\n",
              "    }\n",
              "    80% {\n",
              "      border-color: transparent;\n",
              "      border-right-color: var(--fill-color);\n",
              "      border-bottom-color: var(--fill-color);\n",
              "    }\n",
              "    90% {\n",
              "      border-color: transparent;\n",
              "      border-bottom-color: var(--fill-color);\n",
              "    }\n",
              "  }\n",
              "</style>\n",
              "\n",
              "      <script>\n",
              "        async function quickchart(key) {\n",
              "          const quickchartButtonEl =\n",
              "            document.querySelector('#' + key + ' button');\n",
              "          quickchartButtonEl.disabled = true;  // To prevent multiple clicks.\n",
              "          quickchartButtonEl.classList.add('colab-df-spinner');\n",
              "          try {\n",
              "            const charts = await google.colab.kernel.invokeFunction(\n",
              "                'suggestCharts', [key], {});\n",
              "          } catch (error) {\n",
              "            console.error('Error during call to suggestCharts:', error);\n",
              "          }\n",
              "          quickchartButtonEl.classList.remove('colab-df-spinner');\n",
              "          quickchartButtonEl.classList.add('colab-df-quickchart-complete');\n",
              "        }\n",
              "        (() => {\n",
              "          let quickchartButtonEl =\n",
              "            document.querySelector('#df-9cbe0629-9ff6-447d-808e-0fa1ea6db353 button');\n",
              "          quickchartButtonEl.style.display =\n",
              "            google.colab.kernel.accessAllowed ? 'block' : 'none';\n",
              "        })();\n",
              "      </script>\n",
              "    </div>\n",
              "\n",
              "    </div>\n",
              "  </div>\n"
            ],
            "application/vnd.google.colaboratory.intrinsic+json": {
              "type": "dataframe",
              "summary": "{\n  \"name\": \"df[['text', 'clean_text']]\",\n  \"rows\": 5,\n  \"fields\": [\n    {\n      \"column\": \"text\",\n      \"properties\": {\n        \"dtype\": \"string\",\n        \"num_unique_values\": 5,\n        \"samples\": [\n          \"arus deras transformasi digital tata kelola perintah andal polapola kaku birokratis masyarakat tuntut buka cepat respons pimpin rasa langsung hadir konteks sosok dedi mulyadi muncul figur tanda arah pimpin politik lokalyakni pimpin digital humanis pimpin jabat bupati purwakarta periode gubernur jawa barat dedi mulyadi konsistensi bangun komunikasi politik bas dekat rakyat dekat bangun simbolisme manfaat platform digital cerdas strategis kanal youtube pribadi ikut juta orang dedi aktif bagi giat hari masyarakat segan tampil turun langsung bantu warga dialog dagang sapa tani sawah dekat hadir wajah pimpin egaliter bumi depan sentuh personal scroll to continue with content dedi citra transformasi komunikasi politik relevan zaman era digital media sosial arena bentuk opini publik pimpin uji ruang sidang mimbar politik kapasitas bangun percaya ruang digital dedi paham catat dekat digital lepas kritik khawatir narasi visual media sosial ganti kerja substansial lapang potensi distorsi hasil program ukur popularitas konten indikator bijak ukur titik dedi mulyadi evaluasi kacamata komunikator politik digital ambil bijak publik transparansi digital bareng akuntabilitas program popularitas topang kualitas pimpin hasil nyata masyarakat sangkal dedi contoh ruang digital sarana kuat legitimasi politik bangun narasi bijak jembatan jarak pimpin warga teknologi informasi alat daya medium promosi konteks jawa barat milik juta duduk tingkat literasi digital relatif dekat media sosial penuh narasi konflik hoaks ubah kanal informasi komunikasi perintah rakyat model pimpin direplikasi dorong kembang sehat figur dedi mulyadi pimpin muda daerah perintah adaptif buka komunikatif prasyarat mutlak era demokrasi digital tantang ringan mudah akses digital timpang infrastruktur literasi digital rata budaya politik sepenuh buka komitmen prinsip transparansi kolaborasi partisipasi publik tantang atas dedi mulyadi bukti digitalisasi alat dekat etis pimpin krisis percaya elite politik pimpin hadir layar masyarakat jalan ganti realitas kuat nanang ah jurnalis perhati komunikasi politik transformasi digital\",\n          \"wamen daya perempuan lindung anak veronica tan nilai hukum kirim anak barak militer aman didik mental anakanak pemkab garut inventarisir anakanak korban ledak amunisi cibalong asuh gubernur dedi mulyadi bantu didik gubernur jabar dedi mulyadi warga sipil libat musnah amunisi usang insiden ledak garut jawa barat catat provinsi angka judi online tinggi kemkomdigi pemprov jabar tumpas pp no tata kelola pse lindung anak pp tunas sosialisasi purwakarta pemda benteng kuat gubernur jabar dedi mulyadi umum panjang didik karakter siswa smp purwakarta gedung skb endang rahmat salah warga sipil korban ledak musnah amunisi garut istri endang suami lokasi pemprov dki jakarta tangan anak nakal jakarta ikut bijak pemprov jabar masuk anak nakal barak militer ledak amunisi layak pakai garut tewas orang fakta baru insiden istri ustaz solmed april jasmine dukung atur dedi mulyadi kirim anak nakal barak militer bantu nasihat anak\",\n          \"mobil mewah lexus lx milik gubernur jawa barat dedi mulyadi bayar pajak publik heboh pasal orang nomor jabar relaksasi hapus denda pajak jawa barat fakta jadi dedi mulyadi klarifikasi kait tunggak pajak mobil mewah lexus lx catat tunggak data samsat dki jakarta dedi kendara nama langsung milik domisili jakarta scroll to continue with content dedi beli mobil warga jakarta mutasi plat nomor kendara jawa barat sesuai komitmen loh tunggak pajak cerita mobil nama orang ya domisili jakarta komitmen nomor nomor jawa barat dedi awak media kamis dedi alas nama orang proses mekanisme leasing langsung laku sih biaya lumayan juta rupiah pajak cabut berkas istilah bayar gitu loh cuman mutasi ya minggu minggu dedi dedi tekan mencampuradukkan urus pribadi jabat publik emban tuh cerita kemarin plt bapenda jabar telepon bantu urus pribadi urus perintah gitu loh deh teleponin bilang rang biaya bayar wajib bayar terang dedi dedi ban tunggak pajak proses mutasi nunggak jatuh tempo januari april proses mutasi jalan mudahmudahanlah mutasi cepat dedi\"\n        ],\n        \"semantic_type\": \"\",\n        \"description\": \"\"\n      }\n    },\n    {\n      \"column\": \"clean_text\",\n      \"properties\": {\n        \"dtype\": \"string\",\n        \"num_unique_values\": 5,\n        \"samples\": [\n          \"arus deras transformasi digital tata kelola perintah andal polapola kaku birokratis masyarakat tuntut buka cepat respons pimpin langsung hadir konteks sosok dedi mulyadi muncul figur tanda arah pimpin politik lokalyakni pimpin digital humanis pimpin jabat bupati purwakarta periode gubernur jawa barat dedi mulyadi konsistensi bangun komunikasi politik bas rakyat bangun simbolisme manfaat platform digital cerdas strategis kanal youtube pribadi juta orang dedi aktif giat masyarakat segan tampil turun langsung bantu warga dialog dagang sapa tani sawah hadir wajah pimpin egaliter bumi sentuh personal scroll to continue with content dedi citra transformasi komunikasi politik relevan zaman era digital media sosial arena bentuk opini publik pimpin uji ruang sidang mimbar politik kapasitas bangun percaya ruang digital dedi paham catat digital lepas kritik khawatir narasi visual media sosial ganti kerja substansial lapang potensi distorsi hasil program ukur popularitas konten indikator bijak ukur titik dedi mulyadi evaluasi kacamata komunikator politik digital ambil bijak publik transparansi digital bareng akuntabilitas program popularitas topang kualitas pimpin hasil nyata masyarakat sangkal dedi contoh ruang digital sarana kuat legitimasi politik bangun narasi bijak jembatan jarak pimpin warga teknologi informasi alat daya medium promosi konteks jawa barat milik juta duduk tingkat literasi digital relatif media sosial penuh narasi konflik hoaks ubah kanal informasi komunikasi perintah rakyat model pimpin direplikasi dorong kembang sehat figur dedi mulyadi pimpin muda daerah perintah adaptif buka komunikatif prasyarat mutlak era demokrasi digital tantang ringan mudah akses digital timpang infrastruktur literasi digital budaya politik sepenuh buka komitmen prinsip transparansi kolaborasi partisipasi publik tantang dedi mulyadi bukti digitalisasi alat etis pimpin krisis percaya elite politik pimpin hadir layar masyarakat jalan ganti realitas kuat nanang ah jurnalis perhati komunikasi politik transformasi digital\",\n          \"wamen daya perempuan lindung anak veronica tan nilai hukum kirim anak barak militer aman didik mental anakanak pemkab garut inventarisir anakanak korban ledak amunisi cibalong asuh gubernur dedi mulyadi bantu didik gubernur jabar dedi mulyadi warga sipil libat musnah amunisi usang insiden ledak garut jawa barat catat provinsi angka judi online kemkomdigi pemprov jabar tumpas pp no tata kelola pse lindung anak pp tunas sosialisasi purwakarta pemda benteng kuat gubernur jabar dedi mulyadi didik karakter siswa smp purwakarta gedung skb endang rahmat salah warga sipil korban ledak musnah amunisi garut istri endang suami lokasi pemprov dki jakarta tangan anak nakal jakarta bijak pemprov jabar masuk anak nakal barak militer ledak amunisi layak pakai garut tewas orang fakta insiden istri ustaz solmed april jasmine dukung atur dedi mulyadi kirim anak nakal barak militer bantu nasihat anak\",\n          \"mobil mewah lexus lx milik gubernur jawa barat dedi mulyadi bayar pajak publik heboh pasal orang nomor jabar relaksasi hapus denda pajak jawa barat fakta dedi mulyadi klarifikasi kait tunggak pajak mobil mewah lexus lx catat tunggak data samsat dki jakarta dedi kendara nama langsung milik domisili jakarta scroll to continue with content dedi beli mobil warga jakarta mutasi plat nomor kendara jawa barat sesuai komitmen loh tunggak pajak cerita mobil nama orang ya domisili jakarta komitmen nomor nomor jawa barat dedi awak media kamis dedi alas nama orang proses mekanisme leasing langsung laku sih biaya lumayan juta rupiah pajak cabut berkas istilah bayar gitu loh cuman mutasi ya minggu minggu dedi dedi tekan mencampuradukkan urus pribadi jabat publik emban tuh cerita kemarin plt bapenda jabar telepon bantu urus pribadi urus perintah gitu loh deh teleponin bilang rang biaya bayar wajib bayar terang dedi dedi ban tunggak pajak proses mutasi nunggak jatuh tempo januari april proses mutasi jalan mudahmudahanlah mutasi cepat dedi\"\n        ],\n        \"semantic_type\": \"\",\n        \"description\": \"\"\n      }\n    }\n  ]\n}"
            }
          },
          "metadata": {},
          "execution_count": 10
        }
      ]
    },
    {
      "cell_type": "code",
      "source": [
        "vectorizer = TfidfVectorizer(max_features=5000)\n",
        "X = vectorizer.fit_transform(df['clean_text'])\n",
        "y = df['label']\n",
        "\n",
        "X_train, X_test, y_train, y_test = train_test_split(X, y, test_size=0.2, random_state=42)"
      ],
      "metadata": {
        "id": "Wab_-MDiO5-a"
      },
      "execution_count": null,
      "outputs": []
    },
    {
      "cell_type": "code",
      "source": [
        "model = LinearSVC()\n",
        "model.fit(X_train, y_train)\n",
        "y_pred = model.predict(X_test)\n"
      ],
      "metadata": {
        "id": "ISPbJornO9JA"
      },
      "execution_count": null,
      "outputs": []
    },
    {
      "cell_type": "code",
      "source": [
        "accuracy = accuracy_score(y_test, y_pred)\n",
        "precision = precision_score(y_test, y_pred, average='weighted')\n",
        "recall = recall_score(y_test, y_pred, average='weighted')\n",
        "f1 = f1_score(y_test, y_pred, average='weighted')\n",
        "\n",
        "print(\"Akurasi: \", accuracy)\n",
        "print(\"Presisi: \", precision)\n",
        "print(\"Recall: \", recall)\n",
        "print(\"F1-Score: \", f1)\n",
        "\n",
        "cm = confusion_matrix(y_test, y_pred)"
      ],
      "metadata": {
        "id": "Q-6rClkzPBKB",
        "colab": {
          "base_uri": "https://localhost:8080/"
        },
        "outputId": "cc4f80ba-ba8e-4e59-a231-611c7b01ff26"
      },
      "execution_count": null,
      "outputs": [
        {
          "output_type": "stream",
          "name": "stdout",
          "text": [
            "Akurasi:  0.8243243243243243\n",
            "Presisi:  0.8370525931336743\n",
            "Recall:  0.8243243243243243\n",
            "F1-Score:  0.819921730910114\n"
          ]
        }
      ]
    },
    {
      "cell_type": "code",
      "source": [
        "plt.figure(figsize=(6, 4))\n",
        "sns.heatmap(cm, annot=True, fmt='d', cmap='Blues', xticklabels=model.classes_, yticklabels=model.classes_)\n",
        "plt.xlabel('Predicted Label')\n",
        "plt.ylabel('True Label')\n",
        "plt.title('Confusion Matrix')\n",
        "plt.show()"
      ],
      "metadata": {
        "id": "FeTHXRLfPMZw",
        "colab": {
          "base_uri": "https://localhost:8080/",
          "height": 410
        },
        "outputId": "b3a2d57b-bbed-400a-91c0-17c04ed3fea9"
      },
      "execution_count": null,
      "outputs": [
        {
          "output_type": "display_data",
          "data": {
            "text/plain": [
              "<Figure size 600x400 with 2 Axes>"
            ],
            "image/png": "[encoded data removed]"
          },
          "metadata": {}
        }
      ]
    },
    {
      "cell_type": "code",
      "source": [
        "\n",
        "metrics = [accuracy, precision, recall, f1]\n",
        "names = ['Akurasi', 'Presisi', 'Recall', 'F1-Score']\n",
        "\n",
        "plt.figure(figsize=(8, 5))\n",
        "sns.barplot(x=names, y=metrics, palette='Set2')\n",
        "plt.title('Evaluasi Model SVM untuk Analisis Sentimen')\n",
        "plt.ylim(0, 1)\n",
        "for i, v in enumerate(metrics):\n",
        "    plt.text(i, v + 0.01, f\"{v:.2f}\", ha='center', fontweight='bold')\n",
        "plt.show()\n"
      ],
      "metadata": {
        "id": "QhWlq-q_PTNo",
        "colab": {
          "base_uri": "https://localhost:8080/",
          "height": 575
        },
        "outputId": "554bb003-2fd3-49f9-804b-69d13e71cdc9"
      },
      "execution_count": null,
      "outputs": [
        {
          "output_type": "stream",
          "name": "stderr",
          "text": [
            "/tmp/ipython-input-15-2727518124.py:5: FutureWarning: \n",
            "\n",
            "Passing `palette` without assigning `hue` is deprecated and will be removed in v0.14.0. Assign the `x` variable to `hue` and set `legend=False` for the same effect.\n",
            "\n",
            "  sns.barplot(x=names, y=metrics, palette='Set2')\n"
          ]
        },
        {
          "output_type": "display_data",
          "data": {
            "text/plain": [
              "<Figure size 800x500 with 1 Axes>"
            ],
            "image/png": "[encoded data removed]"
          },
          "metadata": {}
        }
      ]
    },
    {
      "cell_type": "code",
      "source": [
        "sentimen_counts = df['label'].value_counts()\n",
        "\n",
        "print(sentimen_counts)"
      ],
      "metadata": {
        "id": "KnmBzqZ8Pjzr",
        "colab": {
          "base_uri": "https://localhost:8080/"
        },
        "outputId": "1c00633d-5990-46e8-9a5b-73824617eb01"
      },
      "execution_count": null,
      "outputs": [
        {
          "output_type": "stream",
          "name": "stdout",
          "text": [
            "label\n",
            "positif    403\n",
            "negatif    233\n",
            "netral     100\n",
            "Name: count, dtype: int64\n"
          ]
        }
      ]
    }
  ]
}